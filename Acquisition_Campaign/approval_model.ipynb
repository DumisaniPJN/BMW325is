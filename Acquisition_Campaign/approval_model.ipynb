{
 "cells": [
  {
   "cell_type": "code",
   "execution_count": 1,
   "id": "549017a3",
   "metadata": {},
   "outputs": [],
   "source": [
    "import warnings\n",
    "from datetime import datetime\n",
    "import os\n",
    "\n",
    "import joblib\n",
    "import numpy as np\n",
    "import pandas as pd\n",
    "from sklearn.metrics import accuracy_score, mean_squared_error\n",
    "from sklearn.model_selection import ParameterSampler, cross_val_score, train_test_split\n",
    "from xgboost import XGBClassifier\n",
    "from joblib import dump, load\n",
    "\n",
    "warnings.filterwarnings(\"ignore\")"
   ]
  },
  {
   "cell_type": "markdown",
   "id": "b6230e71",
   "metadata": {},
   "source": [
    "Reading the batch file from experian"
   ]
  },
  {
   "cell_type": "code",
   "execution_count": 2,
   "id": "82d833ea",
   "metadata": {},
   "outputs": [
    {
     "data": {
      "application/vnd.microsoft.datawrangler.viewer.v0+json": {
       "columns": [
        {
         "name": "index",
         "rawType": "int64",
         "type": "integer"
        },
        {
         "name": "identity_number",
         "rawType": "object",
         "type": "string"
        },
        {
         "name": "prism_score",
         "rawType": "float64",
         "type": "float"
        }
       ],
       "conversionMethod": "pd.DataFrame",
       "ref": "c40ddf7f-aa40-4986-9f86-9b958a96093a",
       "rows": [
        [
         "0",
         "0008180791082",
         "583.0"
        ],
        [
         "1",
         "9008100867088",
         "631.0"
        ],
        [
         "2",
         "0209065530088",
         "587.0"
        ],
        [
         "3",
         "8005300847085",
         "598.0"
        ],
        [
         "4",
         "8912181188085",
         "590.0"
        ]
       ],
       "shape": {
        "columns": 2,
        "rows": 5
       }
      },
      "text/html": [
       "<div>\n",
       "<style scoped>\n",
       "    .dataframe tbody tr th:only-of-type {\n",
       "        vertical-align: middle;\n",
       "    }\n",
       "\n",
       "    .dataframe tbody tr th {\n",
       "        vertical-align: top;\n",
       "    }\n",
       "\n",
       "    .dataframe thead th {\n",
       "        text-align: right;\n",
       "    }\n",
       "</style>\n",
       "<table border=\"1\" class=\"dataframe\">\n",
       "  <thead>\n",
       "    <tr style=\"text-align: right;\">\n",
       "      <th></th>\n",
       "      <th>identity_number</th>\n",
       "      <th>prism_score</th>\n",
       "    </tr>\n",
       "  </thead>\n",
       "  <tbody>\n",
       "    <tr>\n",
       "      <th>0</th>\n",
       "      <td>0008180791082</td>\n",
       "      <td>583.0</td>\n",
       "    </tr>\n",
       "    <tr>\n",
       "      <th>1</th>\n",
       "      <td>9008100867088</td>\n",
       "      <td>631.0</td>\n",
       "    </tr>\n",
       "    <tr>\n",
       "      <th>2</th>\n",
       "      <td>0209065530088</td>\n",
       "      <td>587.0</td>\n",
       "    </tr>\n",
       "    <tr>\n",
       "      <th>3</th>\n",
       "      <td>8005300847085</td>\n",
       "      <td>598.0</td>\n",
       "    </tr>\n",
       "    <tr>\n",
       "      <th>4</th>\n",
       "      <td>8912181188085</td>\n",
       "      <td>590.0</td>\n",
       "    </tr>\n",
       "  </tbody>\n",
       "</table>\n",
       "</div>"
      ],
      "text/plain": [
       "  identity_number  prism_score\n",
       "0   0008180791082        583.0\n",
       "1   9008100867088        631.0\n",
       "2   0209065530088        587.0\n",
       "3   8005300847085        598.0\n",
       "4   8912181188085        590.0"
      ]
     },
     "execution_count": 2,
     "metadata": {},
     "output_type": "execute_result"
    }
   ],
   "source": [
    "# Define path to the Experian batch request file\n",
    "file_path = (\n",
    "    r\"C:\\Users\\payju\\Downloads\\PJN_notebook\\2024\\adhoc\\Mario\\HC approval\\input\\PayJustNow_Experian_Batch_request_2025_05_09_Target_20250514_20836.txt\"\n",
    ")\n",
    "\n",
    "# Read pipe-separated values into a DataFrame\n",
    "# utf-8 encoding ensures proper handling of special characters\n",
    "# low_memory=False helps infer column types more accurately\n",
    "df = pd.read_csv(file_path, sep=\"|\", encoding=\"utf-8\", low_memory=False)\n",
    "\n",
    "# Rename columns for clarity and consistency\n",
    "df.rename(\n",
    "    columns={\n",
    "        'VAP_PrismScore_TM': 'prism_score',\n",
    "        'ID_Number': 'identity_number'\n",
    "    },\n",
    "    inplace=True\n",
    ")\n",
    "# Convert identity numbers to string type to preserve leading zeros\n",
    "df['identity_number'] = df['identity_number'].astype(str)\n",
    "# Ensure all identity numbers are 13 characters long by adding leading zeros\n",
    "df['identity_number'] = df['identity_number'].str.zfill(13)\n",
    "# Display the first few rows to verify changes\n",
    "df.head()"
   ]
  },
  {
   "cell_type": "code",
   "execution_count": 3,
   "id": "4323e203",
   "metadata": {},
   "outputs": [],
   "source": [
    "def calculate_age(id_no: str) -> int | None:\n",
    "    \"\"\"\n",
    "    Derive age from a South African ID number.\n",
    "\n",
    "    Args:\n",
    "        id_no (str): 13-digit ZA ID string (YYMMDDxxxxxxx).\n",
    "\n",
    "    Returns:\n",
    "        int | None: Age in years if valid; otherwise None.\n",
    "    \"\"\"\n",
    "    s = str(id_no).zfill(13)\n",
    "    if len(s) != 13 or not s.isdigit():\n",
    "        return None\n",
    "\n",
    "    yy, mm, dd = map(int, (s[:2], s[2:4], s[4:6]))\n",
    "    year = (2000 if yy <= datetime.today().year % 100 else 1900) + yy\n",
    "    today = datetime.today()\n",
    "\n",
    "    try:\n",
    "        birth = datetime(year, mm, dd)\n",
    "        age = (\n",
    "            today.year - birth.year\n",
    "            - ((today.month, today.day) < (birth.month, birth.day))\n",
    "        )\n",
    "    except ValueError:\n",
    "        age = today.year - year\n",
    "\n",
    "    return age\n",
    "\n",
    "\n",
    "def predict_approval_probabilities(model: XGBClassifier, data: pd.DataFrame) -> pd.DataFrame:\n",
    "    \"\"\"\n",
    "    Generate approval probability scores for new applicants.\n",
    "\n",
    "    Args:\n",
    "        model (XGBClassifier): Trained XGBoost classifier.\n",
    "        data (pd.DataFrame): New dataset with required columns.\n",
    "\n",
    "    Returns:\n",
    "        pd.DataFrame: Contains identity_number, features, and approval_probability.\n",
    "\n",
    "    Raises:\n",
    "        ValueError: If any of 'prism_score', 'age', or 'prism_band_encoded' is missing.\n",
    "    \"\"\"\n",
    "    required = ['prism_score', 'age', 'prism_band_encoded']\n",
    "    missing = [col for col in required if col not in data.columns]\n",
    "    if missing:\n",
    "        raise ValueError(f\"Missing columns: {', '.join(missing)}\")\n",
    "\n",
    "    probs = model.predict_proba(data[required])[:, 1]\n",
    "    out = data.copy()\n",
    "    out['approval_probability'] = probs\n",
    "\n",
    "    return out[['identity_number', *required, 'approval_probability']]\n",
    "\n",
    "\n",
    "def save_approved_users(data: pd.DataFrame, threshold: float, output_dir: str) -> str:\n",
    "    \"\"\"\n",
    "    Filter and save approved users to CSV.\n",
    "\n",
    "    Args:\n",
    "        data (pd.DataFrame): DataFrame with 'approval_probability'.\n",
    "        threshold (float): Minimum probability to mark as approved.\n",
    "        output_dir (str): Directory path to save output CSV.\n",
    "\n",
    "    Returns:\n",
    "        str: File path of the saved CSV.\n",
    "\n",
    "    Raises:\n",
    "        OSError: If the directory cannot be created.\n",
    "    \"\"\"\n",
    "    approved = data[data['approval_probability'] > threshold].copy()\n",
    "    approved['approved'] = 1\n",
    "    os.makedirs(output_dir, exist_ok=True)\n",
    "    today = datetime.now().strftime('%Y-%m-%d')\n",
    "    file_path = os.path.join(output_dir, f\"HC_approved_users_{today}.csv\")\n",
    "    approved[['identity_number', 'prism_score', 'approved']].to_csv(file_path, index=False)\n",
    "    return file_path\n",
    "\n",
    "\n",
    "def main():\n",
    "    # Load DataFrame 'df' from previous processing steps\n",
    "    # Assumes 'df' already loaded with 'identity_number' and 'prism_score'\n",
    "\n",
    "    # Load trained model\n",
    "    model = load(r\"model\\best_model.joblib\")\n",
    "\n",
    "    # Preprocess IDs and compute age\n",
    "    valid_mask = df['identity_number'].astype(str).str.fullmatch(r\"\\d{13}\")\n",
    "    data = df[valid_mask].copy()\n",
    "    data['age'] = data['identity_number'].apply(calculate_age)\n",
    "\n",
    "    # Encode prism score bands\n",
    "    bins = [-np.inf, 4, *range(560, 721, 10), np.inf]\n",
    "    labels = ['Thin files', '<=560'] + [f\"{i+1}–{i+10}\" for i in range(560, 720, 10)] + ['721+']\n",
    "    band_map = {band: idx for idx, band in enumerate(labels)}\n",
    "    data['prism_score_band'] = pd.cut(data['prism_score'], bins=bins, labels=labels, include_lowest=True)\n",
    "    data['prism_band_encoded'] = data['prism_score_band'].map(band_map)\n",
    "    data = data.dropna(subset=['prism_band_encoded'])\n",
    "\n",
    "    # Predict and save\n",
    "    predictions = predict_approval_probabilities(model, data)\n",
    "    output_dir = r\"\\output_data\"\n",
    "    path = save_approved_users(predictions, threshold=0.6, output_dir=output_dir)\n",
    "    print(f\"Saved approved users to: {path}\")\n",
    "\n",
    "    # Show first 20 approved users\n",
    "    approved = predictions[predictions['approval_probability'] > 0.6].copy()\n",
    "    approved['approved'] = 1\n",
    "    print(approved[['identity_number', 'prism_score', 'approved']].head(20))\n"
   ]
  },
  {
   "cell_type": "code",
   "execution_count": 4,
   "id": "075cc565",
   "metadata": {},
   "outputs": [
    {
     "name": "stdout",
     "output_type": "stream",
     "text": [
      "Saved approved users to: \\output_data\\HC_approved_users_2025-05-16.csv\n",
      "   identity_number  prism_score  approved\n",
      "1    9008100867088        631.0         1\n",
      "3    8005300847085        598.0         1\n",
      "4    8912181188085        590.0         1\n",
      "5    6112250539084        605.0         1\n",
      "10   8807150413086        592.0         1\n",
      "11   9912125911088        594.0         1\n",
      "13   9002121307083        619.0         1\n",
      "14   8301235394081        617.0         1\n",
      "19   8308120939086        587.0         1\n",
      "22   9007061095085        591.0         1\n",
      "23   7309121066086        619.0         1\n",
      "25   9901110832086        657.0         1\n",
      "26   9605271376086        590.0         1\n",
      "29   9808145688088        628.0         1\n",
      "31   6806250890088        609.0         1\n",
      "32   8302200461087        619.0         1\n",
      "33   9301015905089        597.0         1\n",
      "35   6405010319080        609.0         1\n",
      "36   5901130753084        605.0         1\n",
      "37   7303140681082        596.0         1\n"
     ]
    }
   ],
   "source": [
    "if __name__ == \"__main__\":\n",
    "    main()"
   ]
  },
  {
   "cell_type": "code",
   "execution_count": null,
   "id": "d294ad1e",
   "metadata": {},
   "outputs": [],
   "source": []
  },
  {
   "cell_type": "code",
   "execution_count": null,
   "id": "37f0c633",
   "metadata": {},
   "outputs": [],
   "source": []
  },
  {
   "cell_type": "code",
   "execution_count": null,
   "id": "5f41615d",
   "metadata": {},
   "outputs": [],
   "source": []
  },
  {
   "cell_type": "code",
   "execution_count": null,
   "id": "26ab82a9",
   "metadata": {},
   "outputs": [],
   "source": []
  }
 ],
 "metadata": {
  "kernelspec": {
   "display_name": "base",
   "language": "python",
   "name": "python3"
  },
  "language_info": {
   "codemirror_mode": {
    "name": "ipython",
    "version": 3
   },
   "file_extension": ".py",
   "mimetype": "text/x-python",
   "name": "python",
   "nbconvert_exporter": "python",
   "pygments_lexer": "ipython3",
   "version": "3.12.3"
  }
 },
 "nbformat": 4,
 "nbformat_minor": 5
}
